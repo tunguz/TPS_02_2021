{
 "cells": [
  {
   "cell_type": "code",
   "execution_count": 1,
   "id": "bcbe3928-07c7-4361-980f-253bc9f610f0",
   "metadata": {},
   "outputs": [],
   "source": [
    "import os\n",
    "#os.environ[\"CUDA_DEVICE_ORDER\"]=\"PCI_BUS_ID\"\n",
    "#os.environ[\"CUDA_VISIBLE_DEVICES\"]=\"0, 1, 2, 4\""
   ]
  },
  {
   "cell_type": "code",
   "execution_count": 2,
   "id": "284ca52f-eccd-463a-ab1c-8730ed268489",
   "metadata": {},
   "outputs": [
    {
     "name": "stderr",
     "output_type": "stream",
     "text": [
      "/home/tunguz/.local/lib/python3.8/site-packages/tqdm/auto.py:22: TqdmWarning: IProgress not found. Please update jupyter and ipywidgets. See https://ipywidgets.readthedocs.io/en/stable/user_install.html\n",
      "  from .autonotebook import tqdm as notebook_tqdm\n"
     ]
    },
    {
     "data": {
      "text/plain": [
       "'1.6.0rc1'"
      ]
     },
     "execution_count": 2,
     "metadata": {},
     "output_type": "execute_result"
    }
   ],
   "source": [
    "from dask.distributed import Client\n",
    "from dask_cuda import LocalCUDACluster\n",
    "from dask import dataframe as dd\n",
    "import pandas as pd\n",
    "import xgboost as xgb\n",
    "from sklearn.model_selection import KFold, train_test_split\n",
    "from sklearn.metrics import mean_squared_error\n",
    "from sklearn.preprocessing import StandardScaler\n",
    "from sklearn.preprocessing import LabelEncoder\n",
    "import optuna\n",
    "import gc\n",
    "xgb.__version__"
   ]
  },
  {
   "cell_type": "code",
   "execution_count": 3,
   "id": "83f5c95b-6d98-4cf9-aca2-716bbef48b66",
   "metadata": {},
   "outputs": [
    {
     "name": "stdout",
     "output_type": "stream",
     "text": [
      "Thu Apr 21 13:17:08 2022       \n",
      "+-----------------------------------------------------------------------------+\n",
      "| NVIDIA-SMI 495.29.05    Driver Version: 495.29.05    CUDA Version: 11.5     |\n",
      "|-------------------------------+----------------------+----------------------+\n",
      "| GPU  Name        Persistence-M| Bus-Id        Disp.A | Volatile Uncorr. ECC |\n",
      "| Fan  Temp  Perf  Pwr:Usage/Cap|         Memory-Usage | GPU-Util  Compute M. |\n",
      "|                               |                      |               MIG M. |\n",
      "|===============================+======================+======================|\n",
      "|   0  NVIDIA A100-SXM...  On   | 00000000:01:00.0 Off |                    0 |\n",
      "| N/A   32C    P0    61W / 275W |    902MiB / 81251MiB |      0%      Default |\n",
      "|                               |                      |             Disabled |\n",
      "+-------------------------------+----------------------+----------------------+\n",
      "|   1  NVIDIA A100-SXM...  On   | 00000000:47:00.0 Off |                    0 |\n",
      "| N/A   32C    P0    62W / 275W |    842MiB / 81251MiB |      0%      Default |\n",
      "|                               |                      |             Disabled |\n",
      "+-------------------------------+----------------------+----------------------+\n",
      "|   2  NVIDIA A100-SXM...  On   | 00000000:81:00.0 Off |                    0 |\n",
      "| N/A   31C    P0    61W / 275W |    888MiB / 81251MiB |      0%      Default |\n",
      "|                               |                      |             Disabled |\n",
      "+-------------------------------+----------------------+----------------------+\n",
      "|   3  NVIDIA DGX Display  On   | 00000000:C1:00.0 Off |                  N/A |\n",
      "| 34%   32C    P8    N/A /  50W |     18MiB /  3911MiB |      0%      Default |\n",
      "|                               |                      |                  N/A |\n",
      "+-------------------------------+----------------------+----------------------+\n",
      "|   4  NVIDIA A100-SXM...  On   | 00000000:C2:00.0 Off |                    0 |\n",
      "| N/A   31C    P0    60W / 275W |   1034MiB / 81251MiB |      0%      Default |\n",
      "|                               |                      |             Disabled |\n",
      "+-------------------------------+----------------------+----------------------+\n",
      "                                                                               \n",
      "+-----------------------------------------------------------------------------+\n",
      "| Processes:                                                                  |\n",
      "|  GPU   GI   CI        PID   Type   Process name                  GPU Memory |\n",
      "|        ID   ID                                                   Usage      |\n",
      "|=============================================================================|\n",
      "|    0   N/A  N/A      5094      G   /usr/lib/xorg/Xorg                  4MiB |\n",
      "|    0   N/A  N/A     96044      G   /usr/lib/xorg/Xorg                  4MiB |\n",
      "|    0   N/A  N/A     96525      G   /usr/lib/xorg/Xorg                  4MiB |\n",
      "|    0   N/A  N/A   2940102      C   /usr/bin/python3                  885MiB |\n",
      "|    1   N/A  N/A      5094      G   /usr/lib/xorg/Xorg                  4MiB |\n",
      "|    1   N/A  N/A     96044      G   /usr/lib/xorg/Xorg                  4MiB |\n",
      "|    1   N/A  N/A     96525      G   /usr/lib/xorg/Xorg                  4MiB |\n",
      "|    1   N/A  N/A   2940100      C   /usr/bin/python3                  825MiB |\n",
      "|    2   N/A  N/A      5094      G   /usr/lib/xorg/Xorg                  4MiB |\n",
      "|    2   N/A  N/A     96044      G   /usr/lib/xorg/Xorg                  4MiB |\n",
      "|    2   N/A  N/A     96525      G   /usr/lib/xorg/Xorg                  4MiB |\n",
      "|    2   N/A  N/A   2940104      C   /usr/bin/python3                  871MiB |\n",
      "|    3   N/A  N/A      5094      G   /usr/lib/xorg/Xorg                  4MiB |\n",
      "|    3   N/A  N/A     96044      G   /usr/lib/xorg/Xorg                  4MiB |\n",
      "|    3   N/A  N/A     96525      G   /usr/lib/xorg/Xorg                  4MiB |\n",
      "|    4   N/A  N/A      5094      G   /usr/lib/xorg/Xorg                  4MiB |\n",
      "|    4   N/A  N/A     96044      G   /usr/lib/xorg/Xorg                  4MiB |\n",
      "|    4   N/A  N/A     96525      G   /usr/lib/xorg/Xorg                  4MiB |\n",
      "|    4   N/A  N/A   2940096      C   /usr/bin/python3                 1017MiB |\n",
      "+-----------------------------------------------------------------------------+\n"
     ]
    }
   ],
   "source": [
    "!nvidia-smi"
   ]
  },
  {
   "cell_type": "code",
   "execution_count": 4,
   "id": "ecc89827-ba83-4896-8e2f-8cebdc0c0e15",
   "metadata": {},
   "outputs": [
    {
     "name": "stdout",
     "output_type": "stream",
     "text": [
      "GPU 0: NVIDIA A100-SXM-80GB (UUID: GPU-a19c00c3-2832-fe38-1c43-c18db3e909da)\n",
      "GPU 1: NVIDIA A100-SXM-80GB (UUID: GPU-58b97c92-e879-49d3-85b5-1d9615f10873)\n",
      "GPU 2: NVIDIA A100-SXM-80GB (UUID: GPU-d21cfed4-2e1a-f313-839c-ea008aca027a)\n",
      "GPU 3: NVIDIA DGX Display (UUID: GPU-bda05ff2-94b1-c885-24f7-586c8f86b408)\n",
      "GPU 4: NVIDIA A100-SXM-80GB (UUID: GPU-e3b349d7-ac6c-77ab-3564-ed9d05d50bac)\n"
     ]
    }
   ],
   "source": [
    "!nvidia-smi -L"
   ]
  },
  {
   "cell_type": "code",
   "execution_count": 5,
   "id": "7e793591-69c6-472e-84f0-8abeda727e14",
   "metadata": {},
   "outputs": [],
   "source": [
    "train_x = dd.read_csv('../../TPS_2021/input/tabular-playground-series-feb-2021/xgtrain.csv')\n",
    "test_x = dd.read_csv('../../TPS_2021/input/tabular-playground-series-feb-2021/xgval.csv')"
   ]
  },
  {
   "cell_type": "code",
   "execution_count": 6,
   "id": "e26fb2fd-45eb-4355-872a-9446e36f3bab",
   "metadata": {},
   "outputs": [],
   "source": [
    "train_y = train_x['target']\n",
    "train_x = train_x[train_x.columns.difference(['target'])]\n",
    "\n",
    "test_y = test_x['target']\n",
    "test_x = test_x[test_x.columns.difference(['target'])]"
   ]
  },
  {
   "cell_type": "code",
   "execution_count": 7,
   "id": "c30eaefa-a3ad-4dc0-8b1b-4bcf2590c2ce",
   "metadata": {},
   "outputs": [
    {
     "name": "stderr",
     "output_type": "stream",
     "text": [
      "/home/tunguz/.local/lib/python3.8/site-packages/distributed/node.py:180: UserWarning: Port 8787 is already in use.\n",
      "Perhaps you already have a cluster running?\n",
      "Hosting the HTTP server on port 37323 instead\n",
      "  warnings.warn(\n",
      "2022-04-21 13:18:51,564 - distributed.preloading - INFO - Import preload module: dask_cuda.initialize\n",
      "2022-04-21 13:18:51,581 - distributed.preloading - INFO - Import preload module: dask_cuda.initialize\n",
      "2022-04-21 13:18:51,592 - distributed.preloading - INFO - Import preload module: dask_cuda.initialize\n",
      "2022-04-21 13:18:51,600 - distributed.preloading - INFO - Import preload module: dask_cuda.initialize\n"
     ]
    }
   ],
   "source": [
    "cluster = LocalCUDACluster(CUDA_VISIBLE_DEVICES=[\"GPU-a19c00c3-2832-fe38-1c43-c18db3e909da\",\n",
    "                                                 \"GPU-58b97c92-e879-49d3-85b5-1d9615f10873\",\n",
    "                                                 \"GPU-d21cfed4-2e1a-f313-839c-ea008aca027a\",\n",
    "                                                 \"GPU-e3b349d7-ac6c-77ab-3564-ed9d05d50bac\"])\n",
    "client = Client(cluster)"
   ]
  },
  {
   "cell_type": "code",
   "execution_count": 8,
   "id": "b333f9c0-7850-4224-8721-dc05dbd3a2c6",
   "metadata": {},
   "outputs": [
    {
     "name": "stdout",
     "output_type": "stream",
     "text": [
      "Thu Apr 21 13:19:05 2022       \n",
      "+-----------------------------------------------------------------------------+\n",
      "| NVIDIA-SMI 495.29.05    Driver Version: 495.29.05    CUDA Version: 11.5     |\n",
      "|-------------------------------+----------------------+----------------------+\n",
      "| GPU  Name        Persistence-M| Bus-Id        Disp.A | Volatile Uncorr. ECC |\n",
      "| Fan  Temp  Perf  Pwr:Usage/Cap|         Memory-Usage | GPU-Util  Compute M. |\n",
      "|                               |                      |               MIG M. |\n",
      "|===============================+======================+======================|\n",
      "|   0  NVIDIA A100-SXM...  On   | 00000000:01:00.0 Off |                    0 |\n",
      "| N/A   32C    P0    61W / 275W |   1313MiB / 81251MiB |      0%      Default |\n",
      "|                               |                      |             Disabled |\n",
      "+-------------------------------+----------------------+----------------------+\n",
      "|   1  NVIDIA A100-SXM...  On   | 00000000:47:00.0 Off |                    0 |\n",
      "| N/A   32C    P0    62W / 275W |   1253MiB / 81251MiB |      0%      Default |\n",
      "|                               |                      |             Disabled |\n",
      "+-------------------------------+----------------------+----------------------+\n",
      "|   2  NVIDIA A100-SXM...  On   | 00000000:81:00.0 Off |                    0 |\n",
      "| N/A   31C    P0    61W / 275W |   1299MiB / 81251MiB |      0%      Default |\n",
      "|                               |                      |             Disabled |\n",
      "+-------------------------------+----------------------+----------------------+\n",
      "|   3  NVIDIA DGX Display  On   | 00000000:C1:00.0 Off |                  N/A |\n",
      "| 34%   32C    P8    N/A /  50W |     18MiB /  3911MiB |      0%      Default |\n",
      "|                               |                      |                  N/A |\n",
      "+-------------------------------+----------------------+----------------------+\n",
      "|   4  NVIDIA A100-SXM...  On   | 00000000:C2:00.0 Off |                    0 |\n",
      "| N/A   31C    P0    60W / 275W |   1445MiB / 81251MiB |      0%      Default |\n",
      "|                               |                      |             Disabled |\n",
      "+-------------------------------+----------------------+----------------------+\n",
      "                                                                               \n",
      "+-----------------------------------------------------------------------------+\n",
      "| Processes:                                                                  |\n",
      "|  GPU   GI   CI        PID   Type   Process name                  GPU Memory |\n",
      "|        ID   ID                                                   Usage      |\n",
      "|=============================================================================|\n",
      "|    0   N/A  N/A      5094      G   /usr/lib/xorg/Xorg                  4MiB |\n",
      "|    0   N/A  N/A     96044      G   /usr/lib/xorg/Xorg                  4MiB |\n",
      "|    0   N/A  N/A     96525      G   /usr/lib/xorg/Xorg                  4MiB |\n",
      "|    0   N/A  N/A   2940102      C   /usr/bin/python3                  885MiB |\n",
      "|    0   N/A  N/A   3032144      C   /usr/bin/python3                  411MiB |\n",
      "|    1   N/A  N/A      5094      G   /usr/lib/xorg/Xorg                  4MiB |\n",
      "|    1   N/A  N/A     96044      G   /usr/lib/xorg/Xorg                  4MiB |\n",
      "|    1   N/A  N/A     96525      G   /usr/lib/xorg/Xorg                  4MiB |\n",
      "|    1   N/A  N/A   2940100      C   /usr/bin/python3                  825MiB |\n",
      "|    1   N/A  N/A   3032147      C   /usr/bin/python3                  411MiB |\n",
      "|    2   N/A  N/A      5094      G   /usr/lib/xorg/Xorg                  4MiB |\n",
      "|    2   N/A  N/A     96044      G   /usr/lib/xorg/Xorg                  4MiB |\n",
      "|    2   N/A  N/A     96525      G   /usr/lib/xorg/Xorg                  4MiB |\n",
      "|    2   N/A  N/A   2940104      C   /usr/bin/python3                  871MiB |\n",
      "|    2   N/A  N/A   3032138      C   /usr/bin/python3                  411MiB |\n",
      "|    3   N/A  N/A      5094      G   /usr/lib/xorg/Xorg                  4MiB |\n",
      "|    3   N/A  N/A     96044      G   /usr/lib/xorg/Xorg                  4MiB |\n",
      "|    3   N/A  N/A     96525      G   /usr/lib/xorg/Xorg                  4MiB |\n",
      "|    4   N/A  N/A      5094      G   /usr/lib/xorg/Xorg                  4MiB |\n",
      "|    4   N/A  N/A     96044      G   /usr/lib/xorg/Xorg                  4MiB |\n",
      "|    4   N/A  N/A     96525      G   /usr/lib/xorg/Xorg                  4MiB |\n",
      "|    4   N/A  N/A   2940096      C   /usr/bin/python3                 1017MiB |\n",
      "|    4   N/A  N/A   3032142      C   /usr/bin/python3                  411MiB |\n",
      "+-----------------------------------------------------------------------------+\n"
     ]
    }
   ],
   "source": [
    "!nvidia-smi"
   ]
  },
  {
   "cell_type": "code",
   "execution_count": 10,
   "id": "ae458bee-9ae8-4109-ba2a-eb10070067a1",
   "metadata": {},
   "outputs": [],
   "source": [
    "dtrain = xgb.dask.DaskDMatrix(client, train_x, train_y)"
   ]
  },
  {
   "cell_type": "code",
   "execution_count": 11,
   "id": "e3ec762f-1776-4b92-8d91-f764b221fc9e",
   "metadata": {},
   "outputs": [],
   "source": [
    "dtest = xgb.dask.DaskDMatrix(client, test_x, test_y)"
   ]
  },
  {
   "cell_type": "code",
   "execution_count": 12,
   "id": "f30fa506-1d15-4b1f-80e8-ddeaa829e739",
   "metadata": {},
   "outputs": [],
   "source": [
    "num_round = 1000"
   ]
  },
  {
   "cell_type": "code",
   "execution_count": 13,
   "id": "8548966c-0979-455b-b937-a96b2133be0d",
   "metadata": {},
   "outputs": [],
   "source": [
    "def objective(trial):\n",
    "        \n",
    "    params = {\n",
    "        'objective': trial.suggest_categorical('objective',['reg:squarederror']), \n",
    "        'tree_method': trial.suggest_categorical('tree_method',['gpu_hist']),  # 'gpu_hist','hist'\n",
    "        'lambda': trial.suggest_loguniform('lambda',1e-3,10.0),\n",
    "        'alpha': trial.suggest_loguniform('alpha',1e-3,10.0),\n",
    "        'colsample_bytree': trial.suggest_uniform('colsample_bytree', 0.3,1.0),\n",
    "        'subsample': trial.suggest_uniform('subsample', 0.4, 1.0),\n",
    "        'learning_rate': trial.suggest_loguniform('learning_rate', 0.001,0.1),\n",
    "        #'n_estimators': trial.suggest_categorical('n_estimators', [1000]),\n",
    "        'max_depth': trial.suggest_categorical('max_depth', [3,5,7,9,11,13,15,17,20]),\n",
    "        #'random_state': trial.suggest_categorical('random_state', [24,48,2020]),\n",
    "        'min_child_weight': trial.suggest_int('min_child_weight', 1,300),\n",
    "        'eval_metric': trial.suggest_categorical('eval_metric',['rmse']),\n",
    "\n",
    "    }\n",
    "\n",
    "    output = xgb.dask.train(client, params, dtrain, num_round)\n",
    "    \n",
    "    booster = output['booster']  # booster is the trained model\n",
    "    booster.set_param({'predictor': 'gpu_predictor'})\n",
    "\n",
    "    predictions = xgb.dask.predict(client, booster, dtest)\n",
    "    \n",
    "    predictions = predictions.compute()\n",
    "\n",
    "    rmse = mean_squared_error(test_y, predictions, squared=False)\n",
    "    \n",
    "    return rmse"
   ]
  },
  {
   "cell_type": "code",
   "execution_count": 15,
   "id": "15a97026-5fb6-4c3d-9f05-6a7d203ba0d2",
   "metadata": {},
   "outputs": [
    {
     "name": "stderr",
     "output_type": "stream",
     "text": [
      "\u001b[32m[I 2022-04-21 13:21:09,568]\u001b[0m A new study created in memory with name: no-name-83eba753-be77-4219-a269-1c30bd60bfff\u001b[0m\n"
     ]
    }
   ],
   "source": [
    "study = optuna.create_study(direction='minimize')"
   ]
  },
  {
   "cell_type": "code",
   "execution_count": 16,
   "id": "b49b9cea-752b-4c61-9aa6-48bac3c30f98",
   "metadata": {},
   "outputs": [
    {
     "name": "stderr",
     "output_type": "stream",
     "text": [
      "[13:21:12] task [xgboost.dask]:tcp://127.0.0.1:33337 got new rank 0\n",
      "\u001b[32m[I 2022-04-21 13:28:07,419]\u001b[0m Trial 0 finished with value: 1.4327292355984982 and parameters: {'objective': 'reg:squarederror', 'tree_method': 'gpu_hist', 'lambda': 0.03306175742611288, 'alpha': 0.012759958256318512, 'colsample_bytree': 0.5158250646051545, 'subsample': 0.847927979275615, 'learning_rate': 0.0017977213288108476, 'max_depth': 17, 'min_child_weight': 17, 'eval_metric': 'rmse'}. Best is trial 0 with value: 1.4327292355984982.\u001b[0m\n",
      "[13:28:07] task [xgboost.dask]:tcp://127.0.0.1:33337 got new rank 0\n",
      "\u001b[32m[I 2022-04-21 13:28:34,942]\u001b[0m Trial 1 finished with value: 0.8498183733674679 and parameters: {'objective': 'reg:squarederror', 'tree_method': 'gpu_hist', 'lambda': 0.004477114632230474, 'alpha': 0.04305502109718364, 'colsample_bytree': 0.7391527216829525, 'subsample': 0.8824515175345107, 'learning_rate': 0.040390475706009066, 'max_depth': 13, 'min_child_weight': 215, 'eval_metric': 'rmse'}. Best is trial 1 with value: 0.8498183733674679.\u001b[0m\n",
      "[13:28:34] task [xgboost.dask]:tcp://127.0.0.1:33337 got new rank 0\n",
      "\u001b[32m[I 2022-04-21 13:29:03,353]\u001b[0m Trial 2 finished with value: 0.8618986789422243 and parameters: {'objective': 'reg:squarederror', 'tree_method': 'gpu_hist', 'lambda': 0.021247448992225856, 'alpha': 1.690843820159214, 'colsample_bytree': 0.3049082842171883, 'subsample': 0.696432318485583, 'learning_rate': 0.08663827623134855, 'max_depth': 13, 'min_child_weight': 177, 'eval_metric': 'rmse'}. Best is trial 1 with value: 0.8498183733674679.\u001b[0m\n"
     ]
    },
    {
     "name": "stdout",
     "output_type": "stream",
     "text": [
      "CPU times: user 12.9 s, sys: 13.6 s, total: 26.5 s\n",
      "Wall time: 7min 51s\n"
     ]
    }
   ],
   "source": [
    "%%time\n",
    "study.optimize(objective, n_trials=3)"
   ]
  },
  {
   "cell_type": "code",
   "execution_count": 17,
   "id": "cfb7a6e9-3b93-42bb-9f87-f612f3126774",
   "metadata": {},
   "outputs": [
    {
     "name": "stderr",
     "output_type": "stream",
     "text": [
      "[13:29:32] task [xgboost.dask]:tcp://127.0.0.1:33337 got new rank 0\n",
      "\u001b[32m[I 2022-04-21 13:29:57,935]\u001b[0m Trial 3 finished with value: 0.844085652162971 and parameters: {'objective': 'reg:squarederror', 'tree_method': 'gpu_hist', 'lambda': 0.1629969560656772, 'alpha': 0.7763089847397154, 'colsample_bytree': 0.7871249149275015, 'subsample': 0.795373381278987, 'learning_rate': 0.008504345418890261, 'max_depth': 11, 'min_child_weight': 184, 'eval_metric': 'rmse'}. Best is trial 3 with value: 0.844085652162971.\u001b[0m\n",
      "[13:29:57] task [xgboost.dask]:tcp://127.0.0.1:33337 got new rank 0\n",
      "\u001b[32m[I 2022-04-21 13:30:21,512]\u001b[0m Trial 4 finished with value: 0.8506177477444197 and parameters: {'objective': 'reg:squarederror', 'tree_method': 'gpu_hist', 'lambda': 0.0048860548444564665, 'alpha': 6.837906682871727, 'colsample_bytree': 0.42613953313153535, 'subsample': 0.6468450080624281, 'learning_rate': 0.052829294261213855, 'max_depth': 11, 'min_child_weight': 154, 'eval_metric': 'rmse'}. Best is trial 3 with value: 0.844085652162971.\u001b[0m\n",
      "[13:30:21] task [xgboost.dask]:tcp://127.0.0.1:33337 got new rank 0\n",
      "\u001b[32m[I 2022-04-21 13:31:58,959]\u001b[0m Trial 5 finished with value: 0.8508505806289278 and parameters: {'objective': 'reg:squarederror', 'tree_method': 'gpu_hist', 'lambda': 0.13114397448055776, 'alpha': 0.0044997879820437405, 'colsample_bytree': 0.9270598992319212, 'subsample': 0.7885971919819688, 'learning_rate': 0.020133111260777093, 'max_depth': 20, 'min_child_weight': 114, 'eval_metric': 'rmse'}. Best is trial 3 with value: 0.844085652162971.\u001b[0m\n",
      "[13:31:58] task [xgboost.dask]:tcp://127.0.0.1:33337 got new rank 0\n",
      "\u001b[32m[I 2022-04-21 13:33:08,131]\u001b[0m Trial 6 finished with value: 0.8453873161953792 and parameters: {'objective': 'reg:squarederror', 'tree_method': 'gpu_hist', 'lambda': 6.443772773137416, 'alpha': 3.3442818786662474, 'colsample_bytree': 0.8673043122717619, 'subsample': 0.5752670467720225, 'learning_rate': 0.01338846747289118, 'max_depth': 17, 'min_child_weight': 93, 'eval_metric': 'rmse'}. Best is trial 3 with value: 0.844085652162971.\u001b[0m\n",
      "[13:33:08] task [xgboost.dask]:tcp://127.0.0.1:33337 got new rank 0\n",
      "\u001b[32m[I 2022-04-21 13:33:09,741]\u001b[0m Trial 7 finished with value: 1.9236591219920252 and parameters: {'objective': 'reg:squarederror', 'tree_method': 'gpu_hist', 'lambda': 0.0038530466784767277, 'alpha': 0.10991210699595333, 'colsample_bytree': 0.8486833255483772, 'subsample': 0.5752955481898171, 'learning_rate': 0.0013991111140526846, 'max_depth': 3, 'min_child_weight': 11, 'eval_metric': 'rmse'}. Best is trial 3 with value: 0.844085652162971.\u001b[0m\n",
      "[13:33:09] task [xgboost.dask]:tcp://127.0.0.1:33337 got new rank 0\n",
      "\u001b[32m[I 2022-04-21 13:33:21,003]\u001b[0m Trial 8 finished with value: 0.8461222047093399 and parameters: {'objective': 'reg:squarederror', 'tree_method': 'gpu_hist', 'lambda': 9.367031844641067, 'alpha': 0.011802188698091362, 'colsample_bytree': 0.707407316188105, 'subsample': 0.4245551324552109, 'learning_rate': 0.03906300555711218, 'max_depth': 9, 'min_child_weight': 167, 'eval_metric': 'rmse'}. Best is trial 3 with value: 0.844085652162971.\u001b[0m\n",
      "[13:33:21] task [xgboost.dask]:tcp://127.0.0.1:33337 got new rank 0\n",
      "\u001b[32m[I 2022-04-21 13:33:30,336]\u001b[0m Trial 9 finished with value: 0.8640808204600869 and parameters: {'objective': 'reg:squarederror', 'tree_method': 'gpu_hist', 'lambda': 0.008032682665706566, 'alpha': 0.011734350424250266, 'colsample_bytree': 0.5059775369486467, 'subsample': 0.6727329160037878, 'learning_rate': 0.0038517503767352855, 'max_depth': 7, 'min_child_weight': 21, 'eval_metric': 'rmse'}. Best is trial 3 with value: 0.844085652162971.\u001b[0m\n",
      "[13:33:30] task [xgboost.dask]:tcp://127.0.0.1:33337 got new rank 0\n",
      "\u001b[32m[I 2022-04-21 13:33:53,737]\u001b[0m Trial 10 finished with value: 0.8466604045827251 and parameters: {'objective': 'reg:squarederror', 'tree_method': 'gpu_hist', 'lambda': 0.48538524237158465, 'alpha': 0.3286294801326582, 'colsample_bytree': 0.9902966797658159, 'subsample': 0.9832570406078426, 'learning_rate': 0.005819209972471958, 'max_depth': 11, 'min_child_weight': 283, 'eval_metric': 'rmse'}. Best is trial 3 with value: 0.844085652162971.\u001b[0m\n",
      "[13:33:53] task [xgboost.dask]:tcp://127.0.0.1:33337 got new rank 0\n",
      "\u001b[32m[I 2022-04-21 13:34:59,669]\u001b[0m Trial 11 finished with value: 0.8447456101841523 and parameters: {'objective': 'reg:squarederror', 'tree_method': 'gpu_hist', 'lambda': 6.417195718869365, 'alpha': 1.513092149320175, 'colsample_bytree': 0.8233208017446779, 'subsample': 0.5181522061187959, 'learning_rate': 0.010539118487159759, 'max_depth': 17, 'min_child_weight': 86, 'eval_metric': 'rmse'}. Best is trial 3 with value: 0.844085652162971.\u001b[0m\n",
      "[13:34:59] task [xgboost.dask]:tcp://127.0.0.1:33337 got new rank 0\n",
      "\u001b[32m[I 2022-04-21 13:35:50,788]\u001b[0m Trial 12 finished with value: 0.8441688877549737 and parameters: {'objective': 'reg:squarederror', 'tree_method': 'gpu_hist', 'lambda': 1.395939564834648, 'alpha': 0.7936372723546182, 'colsample_bytree': 0.7809888843291635, 'subsample': 0.4483396499221143, 'learning_rate': 0.007272274805472448, 'max_depth': 15, 'min_child_weight': 80, 'eval_metric': 'rmse'}. Best is trial 3 with value: 0.844085652162971.\u001b[0m\n",
      "[13:35:50] task [xgboost.dask]:tcp://127.0.0.1:33337 got new rank 0\n",
      "\u001b[32m[I 2022-04-21 13:36:12,496]\u001b[0m Trial 13 finished with value: 0.8481679414875445 and parameters: {'objective': 'reg:squarederror', 'tree_method': 'gpu_hist', 'lambda': 0.8996369778621298, 'alpha': 0.5183447837694063, 'colsample_bytree': 0.6380763538993028, 'subsample': 0.40426904529697105, 'learning_rate': 0.00482134505962749, 'max_depth': 15, 'min_child_weight': 243, 'eval_metric': 'rmse'}. Best is trial 3 with value: 0.844085652162971.\u001b[0m\n",
      "[13:36:12] task [xgboost.dask]:tcp://127.0.0.1:33337 got new rank 0\n",
      "\u001b[32m[I 2022-04-21 13:36:15,652]\u001b[0m Trial 14 finished with value: 0.9636375473392755 and parameters: {'objective': 'reg:squarederror', 'tree_method': 'gpu_hist', 'lambda': 1.0926567305014623, 'alpha': 0.3991516170759542, 'colsample_bytree': 0.6379244095301421, 'subsample': 0.8127982892494652, 'learning_rate': 0.0027661582651131163, 'max_depth': 5, 'min_child_weight': 67, 'eval_metric': 'rmse'}. Best is trial 3 with value: 0.844085652162971.\u001b[0m\n",
      "[13:36:15] task [xgboost.dask]:tcp://127.0.0.1:33337 got new rank 0\n",
      "\u001b[32m[I 2022-04-21 13:37:19,941]\u001b[0m Trial 15 finished with value: 0.844251672724917 and parameters: {'objective': 'reg:squarederror', 'tree_method': 'gpu_hist', 'lambda': 0.1807555923739962, 'alpha': 0.11656825694102246, 'colsample_bytree': 0.7585001035749671, 'subsample': 0.7462167407093981, 'learning_rate': 0.007960989985491017, 'max_depth': 15, 'min_child_weight': 123, 'eval_metric': 'rmse'}. Best is trial 3 with value: 0.844085652162971.\u001b[0m\n",
      "[13:37:19] task [xgboost.dask]:tcp://127.0.0.1:33337 got new rank 0\n",
      "\u001b[32m[I 2022-04-21 13:37:42,081]\u001b[0m Trial 16 finished with value: 0.8439930937836878 and parameters: {'objective': 'reg:squarederror', 'tree_method': 'gpu_hist', 'lambda': 0.0011453568266781183, 'alpha': 0.8629533992733531, 'colsample_bytree': 0.5876102277497236, 'subsample': 0.9165981348935589, 'learning_rate': 0.020599007611910084, 'max_depth': 11, 'min_child_weight': 211, 'eval_metric': 'rmse'}. Best is trial 16 with value: 0.8439930937836878.\u001b[0m\n",
      "[13:37:42] task [xgboost.dask]:tcp://127.0.0.1:33337 got new rank 0\n",
      "\u001b[32m[I 2022-04-21 13:38:03,614]\u001b[0m Trial 17 finished with value: 0.8430661072593827 and parameters: {'objective': 'reg:squarederror', 'tree_method': 'gpu_hist', 'lambda': 0.0012477537301341206, 'alpha': 9.286297894855867, 'colsample_bytree': 0.5737582111959629, 'subsample': 0.929478230917701, 'learning_rate': 0.019473057428898127, 'max_depth': 11, 'min_child_weight': 216, 'eval_metric': 'rmse'}. Best is trial 17 with value: 0.8430661072593827.\u001b[0m\n",
      "[13:38:03] task [xgboost.dask]:tcp://127.0.0.1:33337 got new rank 0\n",
      "\u001b[32m[I 2022-04-21 13:38:23,448]\u001b[0m Trial 18 finished with value: 0.8440624816209025 and parameters: {'objective': 'reg:squarederror', 'tree_method': 'gpu_hist', 'lambda': 0.0012850467957830423, 'alpha': 8.76582687253307, 'colsample_bytree': 0.5465312002498929, 'subsample': 0.9925958762170255, 'learning_rate': 0.02353058780928392, 'max_depth': 11, 'min_child_weight': 254, 'eval_metric': 'rmse'}. Best is trial 17 with value: 0.8430661072593827.\u001b[0m\n",
      "[13:38:23] task [xgboost.dask]:tcp://127.0.0.1:33337 got new rank 0\n",
      "\u001b[32m[I 2022-04-21 13:38:46,240]\u001b[0m Trial 19 finished with value: 0.8429793229336765 and parameters: {'objective': 'reg:squarederror', 'tree_method': 'gpu_hist', 'lambda': 0.0011029335012666236, 'alpha': 0.001314512649557971, 'colsample_bytree': 0.4254075408775688, 'subsample': 0.913507986579166, 'learning_rate': 0.019222191009249722, 'max_depth': 11, 'min_child_weight': 213, 'eval_metric': 'rmse'}. Best is trial 19 with value: 0.8429793229336765.\u001b[0m\n",
      "[13:38:46] task [xgboost.dask]:tcp://127.0.0.1:33337 got new rank 0\n",
      "\u001b[32m[I 2022-04-21 13:39:40,706]\u001b[0m Trial 20 finished with value: 0.843322423833889 and parameters: {'objective': 'reg:squarederror', 'tree_method': 'gpu_hist', 'lambda': 0.020926581554175466, 'alpha': 0.0019036618714036195, 'colsample_bytree': 0.4144947870299214, 'subsample': 0.9328595633357287, 'learning_rate': 0.014477958641643227, 'max_depth': 20, 'min_child_weight': 293, 'eval_metric': 'rmse'}. Best is trial 19 with value: 0.8429793229336765.\u001b[0m\n",
      "[13:39:40] task [xgboost.dask]:tcp://127.0.0.1:33337 got new rank 0\n",
      "\u001b[32m[I 2022-04-21 13:40:33,640]\u001b[0m Trial 21 finished with value: 0.8434632846345871 and parameters: {'objective': 'reg:squarederror', 'tree_method': 'gpu_hist', 'lambda': 0.02017893882140758, 'alpha': 0.001113871241536942, 'colsample_bytree': 0.40361847739291234, 'subsample': 0.9233311476374629, 'learning_rate': 0.015899348601199247, 'max_depth': 20, 'min_child_weight': 294, 'eval_metric': 'rmse'}. Best is trial 19 with value: 0.8429793229336765.\u001b[0m\n",
      "[13:40:33] task [xgboost.dask]:tcp://127.0.0.1:33337 got new rank 0\n",
      "\u001b[32m[I 2022-04-21 13:41:27,247]\u001b[0m Trial 22 finished with value: 0.8457660012593932 and parameters: {'objective': 'reg:squarederror', 'tree_method': 'gpu_hist', 'lambda': 0.0026615068497407935, 'alpha': 0.0019295201930715745, 'colsample_bytree': 0.42371069897051417, 'subsample': 0.9287128063543715, 'learning_rate': 0.023252055048195504, 'max_depth': 20, 'min_child_weight': 264, 'eval_metric': 'rmse'}. Best is trial 19 with value: 0.8429793229336765.\u001b[0m\n"
     ]
    },
    {
     "name": "stdout",
     "output_type": "stream",
     "text": [
      "CPU times: user 20.5 s, sys: 15.9 s, total: 36.4 s\n",
      "Wall time: 11min 54s\n"
     ]
    },
    {
     "name": "stderr",
     "output_type": "stream",
     "text": [
      "/home/tunguz/.local/lib/python3.8/site-packages/dask_cuda/initialize.py:57: UserWarning: Worker with process ID 3032142 should have a CUDA context assigned to device GPU-e3b349d7-ac6c-77ab-3564-ed9d05d50bac, but instead the CUDA context is on device 4. This is often the result of a CUDA-enabled library calling a CUDA runtime function before Dask-CUDA can spawn worker processes. Please make sure any such function calls don't happen at import time or in the global scope of a program.\n",
      "  warnings.warn(\n",
      "/home/tunguz/.local/lib/python3.8/site-packages/dask_cuda/initialize.py:57: UserWarning: Worker with process ID 3032147 should have a CUDA context assigned to device GPU-58b97c92-e879-49d3-85b5-1d9615f10873, but instead the CUDA context is on device 1. This is often the result of a CUDA-enabled library calling a CUDA runtime function before Dask-CUDA can spawn worker processes. Please make sure any such function calls don't happen at import time or in the global scope of a program.\n",
      "  warnings.warn(\n",
      "/home/tunguz/.local/lib/python3.8/site-packages/dask_cuda/initialize.py:57: UserWarning: Worker with process ID 3032144 should have a CUDA context assigned to device GPU-a19c00c3-2832-fe38-1c43-c18db3e909da, but instead the CUDA context is on device 0. This is often the result of a CUDA-enabled library calling a CUDA runtime function before Dask-CUDA can spawn worker processes. Please make sure any such function calls don't happen at import time or in the global scope of a program.\n",
      "  warnings.warn(\n",
      "/home/tunguz/.local/lib/python3.8/site-packages/dask_cuda/initialize.py:57: UserWarning: Worker with process ID 3032138 should have a CUDA context assigned to device GPU-d21cfed4-2e1a-f313-839c-ea008aca027a, but instead the CUDA context is on device 2. This is often the result of a CUDA-enabled library calling a CUDA runtime function before Dask-CUDA can spawn worker processes. Please make sure any such function calls don't happen at import time or in the global scope of a program.\n",
      "  warnings.warn(\n"
     ]
    }
   ],
   "source": [
    "%%time\n",
    "study.optimize(objective, n_trials=20)"
   ]
  },
  {
   "cell_type": "code",
   "execution_count": null,
   "id": "8a50889b-4e33-4cca-93b4-d3d60d83dfd4",
   "metadata": {},
   "outputs": [],
   "source": []
  }
 ],
 "metadata": {
  "kernelspec": {
   "display_name": "Python 3 (ipykernel)",
   "language": "python",
   "name": "python3"
  },
  "language_info": {
   "codemirror_mode": {
    "name": "ipython",
    "version": 3
   },
   "file_extension": ".py",
   "mimetype": "text/x-python",
   "name": "python",
   "nbconvert_exporter": "python",
   "pygments_lexer": "ipython3",
   "version": "3.8.10"
  }
 },
 "nbformat": 4,
 "nbformat_minor": 5
}
